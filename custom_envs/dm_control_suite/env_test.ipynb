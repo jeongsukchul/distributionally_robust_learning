{
 "cells": [
  {
   "cell_type": "code",
   "execution_count": 4,
   "metadata": {},
   "outputs": [],
   "source": [
    "from custom_envs.dm_control_suite import get_default_config, load, get_domain_randomizer\n",
    "import jax\n",
    "import jax.numpy as jnp\n",
    "import os\n",
    "from learning.module.wrapper.adv_wrapper import wrap_for_adv_training\n",
    "from learning.module.wrapper.dr_wrapper import wrap_for_dr_training\n",
    "import functools\n",
    "os.environ[\"CUDA_VISIBLE_DEVICES\"] = \"5\"\n"
   ]
  },
  {
   "cell_type": "code",
   "execution_count": 5,
   "metadata": {},
   "outputs": [],
   "source": [
    "env_name='CheetahRun'\n",
    "cfg = get_default_config(env_name)\n",
    "env = load(env_name, cfg)\n",
    "# randomizer = get_domain_randomizer(env_name)\n",
    "# randomizer = functools.partial(randomizer, dr_range=env.dr_range)\n",
    "\n",
    "# eval_env = wrap_for_adv_training(\n",
    "#       env,\n",
    "#       episode_length=1000,\n",
    "#       action_repeat=2,\n",
    "#       randomization_fn=randomizer,\n",
    "# )\n",
    "# eval_env2 = wrap_for_dr_training(\n",
    "#       env,\n",
    "#       episode_length=1000,\n",
    "#       action_repeat=2,\n",
    "#       randomization_fn=randomizer,\n",
    "#       n_envs=1,\n",
    "#       n_nominals=1,\n",
    "# )\n"
   ]
  },
  {
   "cell_type": "code",
   "execution_count": null,
   "metadata": {},
   "outputs": [
    {
     "data": {
      "text/plain": [
       "Array([[0., 0., 0.]], dtype=float32)"
      ]
     },
     "execution_count": 12,
     "metadata": {},
     "output_type": "execute_result"
    }
   ],
   "source": [
    "en\n"
   ]
  },
  {
   "cell_type": "code",
   "execution_count": null,
   "metadata": {},
   "outputs": [
    {
     "data": {
      "text/plain": [
       "Array([[[0., 0., 0.],\n",
       "        [0., 0., 0.],\n",
       "        [0., 0., 0.]]], dtype=float32)"
      ]
     },
     "execution_count": 8,
     "metadata": {},
     "output_type": "execute_result"
    }
   ],
   "source": [
    "body_ipos - body_ipos2\n"
   ]
  },
  {
   "cell_type": "code",
   "execution_count": null,
   "metadata": {},
   "outputs": [],
   "source": [
    "evaluator = AdvEvaluator(\n",
    "        eval_env,\n",
    "        lambda x : x,\n",
    "        num_eval_envs=128,\n",
    "        episode_length=1000,\n",
    "        action_repeat=2,\n",
    "        key=jax.random.PRNGKey(0),\n",
    "    )\n"
   ]
  },
  {
   "cell_type": "code",
   "execution_count": null,
   "metadata": {},
   "outputs": [],
   "source": [
    "dynamics_params = jnp.zeros((128,14))\n",
    "metrics = evaluator.run_evaluation(dynamics_params, dynamics_params, {})\n"
   ]
  },
  {
   "cell_type": "code",
   "execution_count": null,
   "metadata": {},
   "outputs": [],
   "source": [
    "env.mjx_model.body_ipos\n"
   ]
  },
  {
   "cell_type": "code",
   "execution_count": null,
   "metadata": {},
   "outputs": [],
   "source": [
    "state.data.geom_xpos\n"
   ]
  },
  {
   "cell_type": "code",
   "execution_count": null,
   "metadata": {},
   "outputs": [],
   "source": [
    "env.mjx_model.geom_friction\n"
   ]
  },
  {
   "cell_type": "code",
   "execution_count": null,
   "metadata": {},
   "outputs": [],
   "source": [
    "env.mjx_model.dof_frictionloss\n"
   ]
  },
  {
   "cell_type": "code",
   "execution_count": 6,
   "metadata": {},
   "outputs": [
    {
     "data": {
      "text/plain": [
       "['world', 'torso', 'bthigh', 'bshin', 'bfoot', 'fthigh', 'fshin', 'ffoot']"
      ]
     },
     "execution_count": 6,
     "metadata": {},
     "output_type": "execute_result"
    }
   ],
   "source": [
    "from mujoco import mj_id2name, mj_name2id\n",
    "import mujoco\n",
    "[mj_id2name(env.mj_model, mujoco.mjtObj.mjOBJ_BODY, i) for i in range(env.mj_model.nbody)]\n"
   ]
  },
  {
   "cell_type": "code",
   "execution_count": null,
   "metadata": {},
   "outputs": [],
   "source": [
    "[mj_id2name(env.mj_model, mujoco.mjtObj.mjOBJ_JOINT, i) for i in range(env.mj_model.njnt)]\n",
    "\n"
   ]
  },
  {
   "cell_type": "code",
   "execution_count": null,
   "metadata": {},
   "outputs": [],
   "source": [
    "import jax\n",
    "keys = jax.random.split(jax.random.PRNGKey(0), 128)\n"
   ]
  },
  {
   "cell_type": "code",
   "execution_count": null,
   "metadata": {},
   "outputs": [],
   "source": [
    "shape = (1, 3, 5)\n"
   ]
  },
  {
   "cell_type": "code",
   "execution_count": null,
   "metadata": {},
   "outputs": [],
   "source": []
  },
  {
   "cell_type": "code",
   "execution_count": null,
   "metadata": {},
   "outputs": [],
   "source": []
  }
 ],
 "metadata": {
  "kernelspec": {
   "display_name": "mujoco_jax",
   "language": "python",
   "name": "python3"
  },
  "language_info": {
   "codemirror_mode": {
    "name": "ipython",
    "version": 3
   },
   "file_extension": ".py",
   "mimetype": "text/x-python",
   "name": "python",
   "nbconvert_exporter": "python",
   "pygments_lexer": "ipython3",
   "version": "3.12.11"
  }
 },
 "nbformat": 4,
 "nbformat_minor": 2
}
