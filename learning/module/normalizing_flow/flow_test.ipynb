{
 "cells": [
  {
   "cell_type": "code",
   "execution_count": 1,
   "id": "63b633c6",
   "metadata": {},
   "outputs": [],
   "source": [
    "# Import required packages\n",
    "import jax\n",
    "import numpy as np\n",
    "import jax.numpy as jnp\n",
    "import os\n",
    "from matplotlib import pyplot as plt\n",
    "from tqdm import tqdm\n",
    "os.environ[\"CUDA_VISIBLE_DEVICES\"] = \"1\"\n"
   ]
  },
  {
   "cell_type": "code",
   "execution_count": 31,
   "id": "7719c2fb",
   "metadata": {},
   "outputs": [
    {
     "ename": "NameError",
     "evalue": "name 'jnn' is not defined",
     "output_type": "error",
     "traceback": [
      "\u001b[31m---------------------------------------------------------------------------\u001b[39m",
      "\u001b[31mNameError\u001b[39m                                 Traceback (most recent call last)",
      "\u001b[36mCell\u001b[39m\u001b[36m \u001b[39m\u001b[32mIn[31]\u001b[39m\u001b[32m, line 13\u001b[39m\n\u001b[32m     11\u001b[39m rng_params = jax.random.PRNGKey(\u001b[32m0\u001b[39m)\n\u001b[32m     12\u001b[39m x0 = jnp.zeros((\u001b[32m8\u001b[39m, \u001b[32m2\u001b[39m))   \u001b[38;5;66;03m# any batch size; shape must be (N, 2)\u001b[39;00m\n\u001b[32m---> \u001b[39m\u001b[32m13\u001b[39m params = \u001b[43mnfm\u001b[49m\u001b[43m.\u001b[49m\u001b[43minit\u001b[49m\u001b[43m(\u001b[49m\u001b[43mrng_params\u001b[49m\u001b[43m,\u001b[49m\u001b[43m \u001b[49m\u001b[43mmode\u001b[49m\u001b[43m=\u001b[49m\u001b[33;43m'\u001b[39;49m\u001b[33;43mlog_prob\u001b[39;49m\u001b[33;43m'\u001b[39;49m\u001b[43m,\u001b[49m\u001b[43m \u001b[49m\u001b[43mx\u001b[49m\u001b[43m=\u001b[49m\u001b[43mx0\u001b[49m\u001b[43m)\u001b[49m\n\u001b[32m     15\u001b[39m \u001b[38;5;66;03m# Use it\u001b[39;00m\n\u001b[32m     16\u001b[39m key_sample = jax.random.PRNGKey(\u001b[32m1\u001b[39m)\n",
      "    \u001b[31m[... skipping hidden 9 frame]\u001b[39m\n",
      "\u001b[36mFile \u001b[39m\u001b[32m~/distributionally_robust_learning/learning/module/normalizing_flow/base.py:38\u001b[39m, in \u001b[36mNormalizingFlow.__call__\u001b[39m\u001b[34m(self, mode, x, rng, num_samples)\u001b[39m\n\u001b[32m     36\u001b[39m     \u001b[38;5;28;01mreturn\u001b[39;00m \u001b[38;5;28mself\u001b[39m.sample(num_samples, rng)\n\u001b[32m     37\u001b[39m \u001b[38;5;28;01melif\u001b[39;00m mode==\u001b[33m\"\u001b[39m\u001b[33mlog_prob\u001b[39m\u001b[33m\"\u001b[39m:\n\u001b[32m---> \u001b[39m\u001b[32m38\u001b[39m     \u001b[38;5;28;01mreturn\u001b[39;00m \u001b[38;5;28;43mself\u001b[39;49m\u001b[43m.\u001b[49m\u001b[43mlog_prob\u001b[49m\u001b[43m(\u001b[49m\u001b[43mx\u001b[49m\u001b[43m)\u001b[49m\n\u001b[32m     39\u001b[39m \u001b[38;5;28;01mif\u001b[39;00m mode==\u001b[33m\"\u001b[39m\u001b[33mforward_kld\u001b[39m\u001b[33m\"\u001b[39m:\n\u001b[32m     40\u001b[39m     \u001b[38;5;28;01mreturn\u001b[39;00m \u001b[38;5;28mself\u001b[39m.forward_kld(x)\n",
      "    \u001b[31m[... skipping hidden 2 frame]\u001b[39m\n",
      "\u001b[36mFile \u001b[39m\u001b[32m~/distributionally_robust_learning/learning/module/normalizing_flow/base.py:75\u001b[39m, in \u001b[36mNormalizingFlow.log_prob\u001b[39m\u001b[34m(self, x)\u001b[39m\n\u001b[32m     69\u001b[39m \u001b[38;5;28;01mdef\u001b[39;00m\u001b[38;5;250m \u001b[39m\u001b[34mlog_prob\u001b[39m(\u001b[38;5;28mself\u001b[39m, x: jnp.ndarray) -> jnp.ndarray:\n\u001b[32m     70\u001b[39m \u001b[38;5;250m    \u001b[39m\u001b[33;03m\"\"\"\u001b[39;00m\n\u001b[32m     71\u001b[39m \u001b[33;03m    Log q(x) via change of variables:\u001b[39;00m\n\u001b[32m     72\u001b[39m \u001b[33;03m      z, logdet_inv = f^{-1}(x)\u001b[39;00m\n\u001b[32m     73\u001b[39m \u001b[33;03m      log q(x) = log q0(z) + logdet_inv\u001b[39;00m\n\u001b[32m     74\u001b[39m \u001b[33;03m    \"\"\"\u001b[39;00m\n\u001b[32m---> \u001b[39m\u001b[32m75\u001b[39m     z, logdet_inv = \u001b[38;5;28;43mself\u001b[39;49m\u001b[43m.\u001b[49m\u001b[43minverse\u001b[49m\u001b[43m(\u001b[49m\u001b[43mx\u001b[49m\u001b[43m)\u001b[49m\n\u001b[32m     76\u001b[39m     \u001b[38;5;28;01mreturn\u001b[39;00m \u001b[38;5;28mself\u001b[39m.q0.log_prob(z) + logdet_inv\n",
      "    \u001b[31m[... skipping hidden 2 frame]\u001b[39m\n",
      "\u001b[36mFile \u001b[39m\u001b[32m~/distributionally_robust_learning/learning/module/normalizing_flow/base.py:64\u001b[39m, in \u001b[36mNormalizingFlow.inverse\u001b[39m\u001b[34m(self, x)\u001b[39m\n\u001b[32m     62\u001b[39m z = x\n\u001b[32m     63\u001b[39m \u001b[38;5;28;01mfor\u001b[39;00m flow \u001b[38;5;129;01min\u001b[39;00m \u001b[38;5;28mself\u001b[39m.flows[::-\u001b[32m1\u001b[39m]:\n\u001b[32m---> \u001b[39m\u001b[32m64\u001b[39m     z, ld = \u001b[43mflow\u001b[49m\u001b[43m.\u001b[49m\u001b[43minverse\u001b[49m\u001b[43m(\u001b[49m\u001b[43mz\u001b[49m\u001b[43m)\u001b[49m\n\u001b[32m     65\u001b[39m     log_det = log_det + ld\n\u001b[32m     66\u001b[39m \u001b[38;5;28;01mreturn\u001b[39;00m z, log_det\n",
      "    \u001b[31m[... skipping hidden 5 frame]\u001b[39m\n",
      "\u001b[36mFile \u001b[39m\u001b[32m~/distributionally_robust_learning/learning/module/normalizing_flow/flows/planar.py:68\u001b[39m, in \u001b[36mPlanar.setup\u001b[39m\u001b[34m(self)\u001b[39m\n\u001b[32m     65\u001b[39m     \u001b[38;5;28mself\u001b[39m.w = \u001b[38;5;28mself\u001b[39m.param(\u001b[33m'\u001b[39m\u001b[33mw\u001b[39m\u001b[33m'\u001b[39m, \u001b[38;5;28;01mlambda\u001b[39;00m x: \u001b[38;5;28mself\u001b[39m.w_init)\n\u001b[32m     67\u001b[39m \u001b[38;5;28mself\u001b[39m.b = \u001b[38;5;28mself\u001b[39m.param(\u001b[33m'\u001b[39m\u001b[33mb\u001b[39m\u001b[33m'\u001b[39m, \u001b[38;5;28;01mlambda\u001b[39;00m x: jnp.asarray(\u001b[38;5;28mself\u001b[39m.b_init).reshape(()))\n\u001b[32m---> \u001b[39m\u001b[32m68\u001b[39m \u001b[38;5;28mself\u001b[39m.h, \u001b[38;5;28mself\u001b[39m.hprime = \u001b[43m_h_and_hprime\u001b[49m\u001b[43m(\u001b[49m\u001b[38;5;28;43mself\u001b[39;49m\u001b[43m.\u001b[49m\u001b[43mactivation\u001b[49m\u001b[43m)\u001b[49m\n",
      "\u001b[36mFile \u001b[39m\u001b[32m~/distributionally_robust_learning/learning/module/normalizing_flow/flows/planar.py:22\u001b[39m, in \u001b[36m_h_and_hprime\u001b[39m\u001b[34m(activation)\u001b[39m\n\u001b[32m     20\u001b[39m \u001b[38;5;28;01mdef\u001b[39;00m\u001b[38;5;250m \u001b[39m\u001b[34m_h_and_hprime\u001b[39m(activation: Callable[[Array], Array]) -> Tuple[Callable[[Array], Array],\n\u001b[32m     21\u001b[39m                                                                 Callable[[Array], Array]]:\n\u001b[32m---> \u001b[39m\u001b[32m22\u001b[39m     \u001b[38;5;28;01mif\u001b[39;00m activation \u001b[38;5;129;01mis\u001b[39;00m jnp.tanh \u001b[38;5;129;01mor\u001b[39;00m activation \u001b[38;5;129;01mis\u001b[39;00m \u001b[43mjnn\u001b[49m.tanh:\n\u001b[32m     23\u001b[39m         \u001b[38;5;66;03m# tanh'(x) = 1 / cosh(x)^2\u001b[39;00m\n\u001b[32m     24\u001b[39m         \u001b[38;5;28;01mreturn\u001b[39;00m jnp.tanh, (\u001b[38;5;28;01mlambda\u001b[39;00m x: \u001b[32m1.0\u001b[39m / jnp.cosh(x) ** \u001b[32m2\u001b[39m)\n\u001b[32m     25\u001b[39m     \u001b[38;5;28;01melif\u001b[39;00m activation \u001b[38;5;129;01mis\u001b[39;00m jax.nn.leaky_relu:\n\u001b[32m     26\u001b[39m         \u001b[38;5;66;03m# We'll use negative_slope=0.01 by default; customize by wrapping activation.\u001b[39;00m\n",
      "\u001b[31mNameError\u001b[39m: name 'jnn' is not defined"
     ]
    }
   ],
   "source": [
    "import learning.module.normalizing_flow as nf\n",
    "\n",
    "K= 16\n",
    "flows = []\n",
    "for i in range(K):\n",
    "    flows += [nf.flows.Planar((2,), activation=jax.nn.leaky_relu)]\n",
    "target = nf.distributions.TwoModes(2,0.1)\n",
    "rng = jax.random.PRNGKey(0)\n",
    "q0 = nf.distributions.DiagGaussian((2,))\n",
    "nfm = nf.NormalizingFlow(q0=q0, flows=flows, p=target)\n",
    "rng_params = jax.random.PRNGKey(0)\n",
    "x0 = jnp.zeros((8, 2))   # any batch size; shape must be (N, 2)\n",
    "params = nfm.init(rng_params, mode='log_prob', x=x0)\n",
    "\n",
    "# Use it\n",
    "key_sample = jax.random.PRNGKey(1)\n",
    "x, log_q = nfm.apply(params, mode='sample', num_samples=1024, rng=key_sample)\n",
    "lp = nfm.apply(params, mode='log_prob', x=jnp.ones((4, 2)))\n",
    "fkld = nfm.apply(params, mode='forward_kld', x=jax.random.normal(jax.random.PRNGKey(2), (128, 2)))\n",
    "rkld = nfm.apply(params, mode='inverse_kld', num_samples=512)"
   ]
  },
  {
   "cell_type": "code",
   "execution_count": 24,
   "id": "179a9caf",
   "metadata": {},
   "outputs": [
    {
     "data": {
      "text/plain": [
       "{}"
      ]
     },
     "execution_count": 24,
     "metadata": {},
     "output_type": "execute_result"
    }
   ],
   "source": [
    "params"
   ]
  },
  {
   "cell_type": "code",
   "execution_count": 20,
   "id": "340f950a",
   "metadata": {},
   "outputs": [
    {
     "data": {
      "image/png": "[encoded data removed]",
      "text/plain": [
       "<Figure size 1000x1000 with 1 Axes>"
      ]
     },
     "metadata": {},
     "output_type": "display_data"
    },
    {
     "ename": "ScopeParamNotFoundError",
     "evalue": "Could not find parameter named \"loc\" in scope \"/q0\". (https://flax.readthedocs.io/en/latest/api_reference/flax.errors.html#flax.errors.ScopeParamNotFoundError)",
     "output_type": "error",
     "traceback": [
      "\u001b[31m---------------------------------------------------------------------------\u001b[39m",
      "\u001b[31mScopeParamNotFoundError\u001b[39m                   Traceback (most recent call last)",
      "\u001b[36mCell\u001b[39m\u001b[36m \u001b[39m\u001b[32mIn[20]\u001b[39m\u001b[32m, line 15\u001b[39m\n\u001b[32m     13\u001b[39m \u001b[38;5;66;03m# Plot initial flow distribution\u001b[39;00m\n\u001b[32m     14\u001b[39m sample_key, rng = jax.random.split(rng)\n\u001b[32m---> \u001b[39m\u001b[32m15\u001b[39m z, _ = \u001b[43mnfm\u001b[49m\u001b[43m.\u001b[49m\u001b[43mapply\u001b[49m\u001b[43m(\u001b[49m\u001b[43mparams\u001b[49m\u001b[43m,\u001b[49m\u001b[43m  \u001b[49m\u001b[43mrng\u001b[49m\u001b[43m=\u001b[49m\u001b[43msample_key\u001b[49m\u001b[43m,\u001b[49m\u001b[43m \u001b[49m\u001b[43mmode\u001b[49m\u001b[43m=\u001b[49m\u001b[33;43m\"\u001b[39;49m\u001b[33;43msample\u001b[39;49m\u001b[33;43m\"\u001b[39;49m\u001b[43m,\u001b[49m\u001b[43m \u001b[49m\u001b[43mnum_samples\u001b[49m\u001b[43m=\u001b[49m\u001b[32;43m2\u001b[39;49m\u001b[43m \u001b[49m\u001b[43m*\u001b[49m\u001b[43m*\u001b[49m\u001b[43m \u001b[49m\u001b[32;43m20\u001b[39;49m\u001b[43m)\u001b[49m\n\u001b[32m     16\u001b[39m z_np = z.to(\u001b[33m'\u001b[39m\u001b[33mcpu\u001b[39m\u001b[33m'\u001b[39m).data.numpy()\n\u001b[32m     17\u001b[39m plt.figure(figsize=(\u001b[32m10\u001b[39m, \u001b[32m10\u001b[39m))\n",
      "    \u001b[31m[... skipping hidden 6 frame]\u001b[39m\n",
      "\u001b[36mFile \u001b[39m\u001b[32m~/distributionally_robust_learning/learning/module/normalizing_flow/base.py:36\u001b[39m, in \u001b[36mNormalizingFlow.__call__\u001b[39m\u001b[34m(self, mode, x, rng, num_samples)\u001b[39m\n\u001b[32m     34\u001b[39m     \u001b[38;5;28;01mreturn\u001b[39;00m \u001b[38;5;28mself\u001b[39m.inverse(x)\n\u001b[32m     35\u001b[39m \u001b[38;5;28;01melif\u001b[39;00m mode==\u001b[33m\"\u001b[39m\u001b[33msample\u001b[39m\u001b[33m\"\u001b[39m:\n\u001b[32m---> \u001b[39m\u001b[32m36\u001b[39m     \u001b[38;5;28;01mreturn\u001b[39;00m \u001b[38;5;28;43mself\u001b[39;49m\u001b[43m.\u001b[49m\u001b[43msample\u001b[49m\u001b[43m(\u001b[49m\u001b[43mnum_samples\u001b[49m\u001b[43m,\u001b[49m\u001b[43m \u001b[49m\u001b[43mrng\u001b[49m\u001b[43m)\u001b[49m\n\u001b[32m     37\u001b[39m \u001b[38;5;28;01melif\u001b[39;00m mode==\u001b[33m\"\u001b[39m\u001b[33mlog_prob\u001b[39m\u001b[33m\"\u001b[39m:\n\u001b[32m     38\u001b[39m     \u001b[38;5;28;01mreturn\u001b[39;00m \u001b[38;5;28mself\u001b[39m.log_prob(x)\n",
      "    \u001b[31m[... skipping hidden 2 frame]\u001b[39m\n",
      "\u001b[36mFile \u001b[39m\u001b[32m~/distributionally_robust_learning/learning/module/normalizing_flow/base.py:85\u001b[39m, in \u001b[36mNormalizingFlow.sample\u001b[39m\u001b[34m(self, num_samples, key, **kwargs)\u001b[39m\n\u001b[32m     78\u001b[39m \u001b[38;5;28;01mdef\u001b[39;00m\u001b[38;5;250m \u001b[39m\u001b[34msample\u001b[39m(\u001b[38;5;28mself\u001b[39m, num_samples: \u001b[38;5;28mint\u001b[39m, key, **kwargs):\n\u001b[32m     79\u001b[39m \u001b[38;5;250m    \u001b[39m\u001b[33;03m\"\"\"\u001b[39;00m\n\u001b[32m     80\u001b[39m \u001b[33;03m    Sample x ~ q by sampling z ~ q0 and pushing forward.\u001b[39;00m\n\u001b[32m     81\u001b[39m \u001b[33;03m    Requires rngs={'sample': key} for q0.forward.\u001b[39;00m\n\u001b[32m     82\u001b[39m \u001b[33;03m    Returns:\u001b[39;00m\n\u001b[32m     83\u001b[39m \u001b[33;03m      x: (N, *event_shape), log_q(x): (N,)\u001b[39;00m\n\u001b[32m     84\u001b[39m \u001b[33;03m    \"\"\"\u001b[39;00m\n\u001b[32m---> \u001b[39m\u001b[32m85\u001b[39m     z, log_q0 = \u001b[38;5;28;43mself\u001b[39;49m\u001b[43m.\u001b[49m\u001b[43mq0\u001b[49m\u001b[43m.\u001b[49m\u001b[43mforward\u001b[49m\u001b[43m(\u001b[49m\u001b[43mkey\u001b[49m\u001b[43m,\u001b[49m\u001b[43m \u001b[49m\u001b[43mnum_samples\u001b[49m\u001b[43m=\u001b[49m\u001b[43mnum_samples\u001b[49m\u001b[43m,\u001b[49m\u001b[43m \u001b[49m\u001b[43m*\u001b[49m\u001b[43m*\u001b[49m\u001b[43mkwargs\u001b[49m\u001b[43m)\u001b[49m  \u001b[38;5;66;03m# (N, D), (N,)\u001b[39;00m\n\u001b[32m     86\u001b[39m     x, logdet = \u001b[38;5;28mself\u001b[39m.forward(z)\n\u001b[32m     87\u001b[39m     log_q = log_q0 - logdet\n",
      "    \u001b[31m[... skipping hidden 5 frame]\u001b[39m\n",
      "\u001b[36mFile \u001b[39m\u001b[32m~/distributionally_robust_learning/learning/module/normalizing_flow/distributions/base.py:45\u001b[39m, in \u001b[36mDiagGaussian.setup\u001b[39m\u001b[34m(self)\u001b[39m\n\u001b[32m     42\u001b[39m loc_init = \u001b[38;5;28;01mlambda\u001b[39;00m key: jnp.zeros((\u001b[32m1\u001b[39m,) + \u001b[38;5;28mself\u001b[39m.shape, dtype=\u001b[38;5;28mself\u001b[39m.dtype)\n\u001b[32m     43\u001b[39m log_scale_init = \u001b[38;5;28;01mlambda\u001b[39;00m key: jnp.zeros((\u001b[32m1\u001b[39m,) + \u001b[38;5;28mself\u001b[39m.shape, dtype=\u001b[38;5;28mself\u001b[39m.dtype)\n\u001b[32m---> \u001b[39m\u001b[32m45\u001b[39m \u001b[38;5;28mself\u001b[39m._loc = \u001b[38;5;28;43mself\u001b[39;49m\u001b[43m.\u001b[49m\u001b[43mparam\u001b[49m\u001b[43m(\u001b[49m\u001b[33;43m'\u001b[39;49m\u001b[33;43mloc\u001b[39;49m\u001b[33;43m'\u001b[39;49m\u001b[43m,\u001b[49m\u001b[43m \u001b[49m\u001b[43mloc_init\u001b[49m\u001b[43m)\u001b[49m\n\u001b[32m     46\u001b[39m \u001b[38;5;28mself\u001b[39m._log_scale = \u001b[38;5;28mself\u001b[39m.param(\u001b[33m'\u001b[39m\u001b[33mlog_scale\u001b[39m\u001b[33m'\u001b[39m, log_scale_init)\n",
      "    \u001b[31m[... skipping hidden 1 frame]\u001b[39m\n",
      "\u001b[36mFile \u001b[39m\u001b[32m/home/tjrcjf410/miniconda3/envs/mujoco_jax/lib/python3.12/site-packages/flax/core/scope.py:967\u001b[39m, in \u001b[36mScope.param\u001b[39m\u001b[34m(self, name, init_fn, unbox, *init_args, **init_kwargs)\u001b[39m\n\u001b[32m    965\u001b[39m   \u001b[38;5;28;01mif\u001b[39;00m \u001b[38;5;28mself\u001b[39m.is_collection_empty(\u001b[33m'\u001b[39m\u001b[33mparams\u001b[39m\u001b[33m'\u001b[39m):\n\u001b[32m    966\u001b[39m     \u001b[38;5;28;01mraise\u001b[39;00m errors.ScopeCollectionNotFound(\u001b[33m'\u001b[39m\u001b[33mparams\u001b[39m\u001b[33m'\u001b[39m, name, \u001b[38;5;28mself\u001b[39m.path_text)\n\u001b[32m--> \u001b[39m\u001b[32m967\u001b[39m   \u001b[38;5;28;01mraise\u001b[39;00m errors.ScopeParamNotFoundError(name, \u001b[38;5;28mself\u001b[39m.path_text)\n\u001b[32m    968\u001b[39m value = init_fn(\u001b[38;5;28mself\u001b[39m.make_rng(\u001b[33m'\u001b[39m\u001b[33mparams\u001b[39m\u001b[33m'\u001b[39m), *init_args, **init_kwargs)\n\u001b[32m    969\u001b[39m \u001b[38;5;28mself\u001b[39m.put_variable(\u001b[33m'\u001b[39m\u001b[33mparams\u001b[39m\u001b[33m'\u001b[39m, name, value)\n",
      "\u001b[31mScopeParamNotFoundError\u001b[39m: Could not find parameter named \"loc\" in scope \"/q0\". (https://flax.readthedocs.io/en/latest/api_reference/flax.errors.html#flax.errors.ScopeParamNotFoundError)"
     ]
    }
   ],
   "source": [
    "grid_size = 200\n",
    "lin = jnp.linspace(-3.0, 3.0, grid_size)\n",
    "xx, yy = jnp.meshgrid(lin, lin, indexing=\"xy\")          # (G, G)\n",
    "z_grid = jnp.stack([xx, yy], axis=-1)                   # (G, G, 2)\n",
    "\n",
    "log_prob = target.log_prob(z_grid)                      # (G, G)\n",
    "prob = jnp.exp(log_prob)\n",
    "\n",
    "plt.figure(figsize=(10, 10))\n",
    "plt.pcolormesh(xx, yy, prob)\n",
    "plt.show()\n",
    "\n",
    "# Plot initial flow distribution\n",
    "sample_key, rng = jax.random.split(rng)\n",
    "z, _ = nfm.apply(params,  rng=sample_key, mode=\"sample\", num_samples=2 ** 20)\n",
    "z_np = z.to('cpu').data.numpy()\n",
    "plt.figure(figsize=(10, 10))\n",
    "plt.hist2d(z_np[:, 0].flatten(), z_np[:, 1].flatten(), (grid_size, grid_size), range=[[-3, 3], [-3, 3]])\n",
    "plt.show()"
   ]
  }
 ],
 "metadata": {
  "kernelspec": {
   "display_name": "mujoco_jax",
   "language": "python",
   "name": "python3"
  },
  "language_info": {
   "codemirror_mode": {
    "name": "ipython",
    "version": 3
   },
   "file_extension": ".py",
   "mimetype": "text/x-python",
   "name": "python",
   "nbconvert_exporter": "python",
   "pygments_lexer": "ipython3",
   "version": "3.12.11"
  }
 },
 "nbformat": 4,
 "nbformat_minor": 5
}
